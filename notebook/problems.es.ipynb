{
 "cells": [
  {
   "cell_type": "markdown",
   "id": "a41f3622",
   "metadata": {},
   "source": [
    "# Ejercicios de probabilidad"
   ]
  },
  {
   "cell_type": "markdown",
   "id": "a6bdbd89",
   "metadata": {},
   "source": [
    "## Ejercicio 1 \n",
    "\n",
    "Dos dados se lanzan una vez y se observa el total obtenido. Usa una simulación para encontrar la probabilidad estimada de que la puntuación sea mayor a 7 o un número par. Una simulación es una repetición del mismo experimento multiples veces para observar su comportamiento:\n",
    "\n",
    "- Ejecuta el experimento 1000 veces (lanza 2 dados 1000 veces, y suma el número de ambos dados).\n",
    "- Lleva ua cuenta de los números y las veces que la suma fue mayor a 7 o un número par.\n",
    "- Divide el número del paso 2 entre el número de iteraciones(1000)."
   ]
  },
  {
   "cell_type": "code",
   "execution_count": null,
   "id": "8939d892",
   "metadata": {},
   "outputs": [
    {
     "name": "stdout",
     "output_type": "stream",
     "text": [
      "La probabilidad estimada de obtener una suma mayor a 7 o par es: 66.5 por ciento\n"
     ]
    }
   ],
   "source": [
    "import numpy as np, random\n",
    "import pandas as pd\n",
    "random.seed(42)\n",
    "\n",
    "\n",
    "def lanzar_dados(num_simulaciones):\n",
    "  \"\"\"\n",
    "  Simula el lanzamiento de dos dados múltiples veces y calcula la probabilidad deseada.\n",
    "\n",
    "  Argumentos:\n",
    "    num_simulaciones: Número de veces que se repetirá el experimento.\n",
    "\n",
    "  Returns:\n",
    "    La probabilidad estimada.\n",
    "  \"\"\"\n",
    "\n",
    "  contador_exitos = 0\n",
    "  for _ in range(num_simulaciones):\n",
    "    dado1 = random.randint(1, 6)\n",
    "    dado2 = random.randint(1, 6)\n",
    "    suma = dado1 + dado2\n",
    "\n",
    "    # Condición: suma > 7 o suma es par\n",
    "    if suma > 7 or suma % 2 == 0:\n",
    "      contador_exitos += 1\n",
    "\n",
    "  probabilidad = contador_exitos / num_simulaciones\n",
    "  return probabilidad\n",
    "\n",
    "# Ejecutar la simulación con 1000 iteraciones\n",
    "resultado = lanzar_dados(1000)\n",
    "\n",
    "print(\"La probabilidad estimada de obtener una suma mayor a 7 o par es:\", resultado*100,'por ciento')"
   ]
  },
  {
   "cell_type": "markdown",
   "id": "55732bca",
   "metadata": {},
   "source": [
    "## Ejercicio 2\n",
    "\n",
    "Una caja contiene 10 bolas blancas, 20 bolas rojas y 30 bolas verdes. Si tomamos 5 bolas de la caja reemplazándolas (tomando una bola, anotando el color y luego regresandola a la caja). Queremos saber la probabilidad de:\n",
    "\n",
    "1. Tomar 3 blancas y 2 rojas.\n",
    "2. Toas todas del mismo color.\n",
    "\n",
    "Ejecuta el experimento 1000 veces y calcula las probabilidades que mencionadas."
   ]
  },
  {
   "cell_type": "code",
   "execution_count": 16,
   "id": "23244d20",
   "metadata": {},
   "outputs": [
    {
     "name": "stdout",
     "output_type": "stream",
     "text": [
      "Probabilidad de 3 blancas y 2 rojas: 4.60 por ciento\n",
      "Probabilidad de todas del mismo color: 0.80 por ciento\n"
     ]
    }
   ],
   "source": [
    "ball_box = {}\n",
    "\n",
    "# Crea la cajas con las bolas\n",
    "\"\"\"\n",
    "for i in range(60):\n",
    "    if i < 10:\n",
    "        ball_box[i] = \"White\"\n",
    "    elif (i > 9) and (i < 30):\n",
    "        ball_box[i] = \"Red\"\n",
    "    else:\n",
    "        ball_box[i] = \"Green\"\n",
    "\n",
    "print(ball_box)\n",
    "\"\"\"    \n",
    "# TODO\n",
    "import numpy as np, random\n",
    "import pandas as pd\n",
    "random.seed(42)\n",
    "def extraer_bolas(num_simulaciones, num_bolas_extraer):\n",
    "  \"\"\"\n",
    "  Simula la extracción de bolas de una urna con reposición.\n",
    "\n",
    "  Argumentoss:\n",
    "    num_simulaciones: Número de veces que se repetirá el experimento.\n",
    "    num_bolas_extraer: Número de bolas que se extraen en cada simulación.\n",
    "\n",
    "  Returns:\n",
    "    Un diccionario con las probabilidades estimadas para cada patrón.\n",
    "  \"\"\"\n",
    "\n",
    "  resultados = {'3 blancas y 2 rojas': 0, 'todas del mismo color': 0}\n",
    "  total_simulaciones = num_simulaciones\n",
    "\n",
    "  for _ in range(num_simulaciones):\n",
    "    extraccion = []\n",
    "    for _ in range(num_bolas_extraer):\n",
    "      bola = random.choices(['blanca', 'roja', 'verde'])[0]\n",
    "      extraccion.append(bola)\n",
    "\n",
    "    if extraccion.count('blanca') == 3 and extraccion.count('roja') == 2:\n",
    "      resultados['3 blancas y 2 rojas'] += 1\n",
    "    elif extraccion.count('blanca') == num_bolas_extraer or extraccion.count('roja') == num_bolas_extraer or extraccion.count('verde') == num_bolas_extraer:\n",
    "      resultados['todas del mismo color'] += 1\n",
    "\n",
    "  for patron, conteo in resultados.items():\n",
    "    probabilidad = conteo / total_simulaciones\n",
    "    print(f\"Probabilidad de {patron}: {probabilidad*100:.2f} por ciento\")\n",
    "\n",
    "# Ejecutar la simulación con 1000 iteraciones y extraer 5 bolas\n",
    "extraer_bolas(1000, 5)"
   ]
  }
 ],
 "metadata": {
  "kernelspec": {
   "display_name": "Python 3",
   "language": "python",
   "name": "python3"
  },
  "language_info": {
   "codemirror_mode": {
    "name": "ipython",
    "version": 3
   },
   "file_extension": ".py",
   "mimetype": "text/x-python",
   "name": "python",
   "nbconvert_exporter": "python",
   "pygments_lexer": "ipython3",
   "version": "3.11.4"
  }
 },
 "nbformat": 4,
 "nbformat_minor": 5
}
